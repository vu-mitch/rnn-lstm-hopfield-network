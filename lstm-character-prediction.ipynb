{
  "cells": [
    {
      "cell_type": "markdown",
      "id": "85e442cc",
      "metadata": {
        "id": "85e442cc"
      },
      "source": [
        "# Assignment 3: Text processing with LSTM in PyTorch\n",
        "\n",
        "*Author:* Thomas Adler\n",
        "\n",
        "*Copyright statement:* This  material,  no  matter  whether  in  printed  or  electronic  form,  may  be  used  for  personal  and non-commercial educational use only.  Any reproduction of this manuscript, no matter whether as a whole or in parts, no matter whether in printed or in electronic form, requires explicit prior acceptance of the authors.\n",
        "\n",
        "In this assignment you will a train an LSTM to generate text. To be able to feed text into (recurrent) neural networks we first have to choose a good representation. There are several options to do so ranging from simple character embeddings to more sophisticated approaches like [word embeddings](https://towardsdatascience.com/introduction-to-word-embedding-and-word2vec-652d0c2060fa) or [token embeddings](https://medium.com/@_init_/why-bert-has-3-embedding-layers-and-their-implementation-details-9c261108e28a). We will use a character embedding in this assignment. \n",
        "\n",
        "Character embeddings work as follows. First we define an alphabet, a set of characters that we want to be able to represent. To feed a character into our network we use a one-hot vector. The dimension of this vector is equal to the size of our alphabet and the \"hot\" position indicates the character we want to represent. While this is logically a decent representation (all characters have the same norm, are orthogonal to one another, etc.) it is inefficient in terms of memory because we have to store a lot of zeros. In the first layer of our network we will multiply our one-hot vector with a weight matrix, i.e. we compute the preactivation by a matrix-vector product of the form $We_i$, where $e_i$ is the $i$-th canonical basis vector. This operation corresponds to selecting the $i$-th column of $W$. So an efficient implementation is to perform a simple lookup operation in $W$. This is how embedding layers work also for word or token embeddings. They are learnable lookup tables. \n",
        "\n",
        "## Exercise 1: Encoding characters\n",
        "\n",
        "Write a class `Encoder` that implements the methods `__init__` and `__call__`. The method `__init__` takes a string as argument that serves as alphabet. The method `__call__` takes one argument. If it is a string then it should return a sequence of integers as `torch.Tensor` of shape  representing the input string. Each integer should represents a character of the alphabet. The alphabet consists of the characters matched by the regex `[a-z0-9 .!?]`. If the input text contains characters that are not in the alphabet, then `__call__` should either remove them or map them to a corresponding character that belongs to the alphabet. If the argument is a `torch.Tensor`, then the method should return a string representation of the input, i.e. it should function as decoder. "
      ]
    },
    {
      "cell_type": "code",
      "execution_count": 1,
      "id": "17f16ae5",
      "metadata": {
        "id": "17f16ae5"
      },
      "outputs": [],
      "source": [
        "import re\n",
        "import torch\n",
        "\n",
        "########## YOUR SOLUTION HERE ##########\n",
        "class Encoder:\n",
        "    def __init__(self, string):\n",
        "        self.vocabulary = dict()\n",
        "        for idx, elem in enumerate(string):\n",
        "            self.vocabulary[elem] = idx\n",
        "            \n",
        "    def __call__(self, x):\n",
        "        if isinstance(x, str):\n",
        "            sample = list()\n",
        "            for letter in x:\n",
        "                found = False\n",
        "                if not letter in self.vocabulary:\n",
        "                    sample.append(self.vocabulary[' '])\n",
        "                    continue\n",
        "                sample.append(self.vocabulary[letter])\n",
        "            sample = torch.tensor(sample)\n",
        "            \n",
        "        else:\n",
        "            sample = \"\"\n",
        "            for num in x:\n",
        "                for key, value in self.vocabulary.items():\n",
        "                    if int(num) == value:\n",
        "                        sample += key\n",
        "        return sample"
      ]
    },
    {
      "cell_type": "markdown",
      "id": "3a819873",
      "metadata": {
        "id": "3a819873"
      },
      "source": [
        "## Exercise 2: Pytorch Dataset\n",
        "\n",
        "Write a class `TextDataset` that derives from `torch.utlis.data.Dataset`. It should wrap a text file and utilize it for training with pytorch. Implement the methods `__init__`, `__len__`, `__getitem__`. The method `__init__` should take a path to a text file as string and an integer `l` specifying the length of one sample sequence. The method `__len__` takes no arguments and should return the size of the dataset, i.e. the number of sample sequences in the dataset. The method `__getitem__` should take an integer indexing a sample sequence and should return that sequence as a `torch.Tensor`. The input file can be viewed as one long sequence. The first sample sequence consists of the characters at positions `0..l-1` in the input file. The second sequence consists of the characters at positions `l..2*l-1` and so on. That is, the samples of our dataset are non-overlapping sequences. The last incomplete sequence may be dropped. "
      ]
    },
    {
      "cell_type": "code",
      "execution_count": 2,
      "id": "9df917ce",
      "metadata": {
        "id": "9df917ce"
      },
      "outputs": [],
      "source": [
        "import torch\n",
        "from torch.utils.data import Dataset\n",
        "########## YOUR SOLUTION HERE ##########\n",
        "class TextDataset(Dataset):\n",
        "    def __init__(self, path, l):\n",
        "        with open(path, \"r\", encoding=\"utf-8\") as file:\n",
        "            self.f = [text for text in file.read().splitlines() if text != \"\"]\n",
        "            self.text = (\"\".join(map(str, self.f))).lower()\n",
        "        \n",
        "        self.samples = [enc(self.text[i:i+l]) for i in range(0, len(self.text), l)][:-1]\n",
        "        self.targets = [(enc(self.text[i:i+l])) for i in range(1, len(self.text), l)][:-1]\n",
        "        \n",
        "    def __getitem__(self, idx):\n",
        "        return self.samples[idx], self.targets[idx]\n",
        "    \n",
        "    def __len__(self):\n",
        "        return len(self.samples)"
      ]
    },
    {
      "cell_type": "markdown",
      "id": "42e5724f",
      "metadata": {
        "id": "42e5724f"
      },
      "source": [
        "## Exercise 3: The Model\n",
        "\n",
        "Write a class `NextCharLSTM` that derives from `torch.nn.Module` and takes `alphabet_size`, the `embedding_dim`, and the `hidden_dim` as arguments. It should consist of a `torch.nn.Embedding` layer that maps the alphabet to embeddings, a `torch.nn.LSTM` that takes the embeddings as inputs and maps them to hidden states, and a `torch.nn.Linear` output layer that maps the hidden states of the LSTM back to the alphabet. Implement the methods `__init__` that sets up the module and `forward` that takes an input sequence and returns the logits (i.e. no activation function on the output layer) of the model prediction at every time step. "
      ]
    },
    {
      "cell_type": "code",
      "execution_count": 3,
      "id": "459fe907",
      "metadata": {
        "id": "459fe907"
      },
      "outputs": [],
      "source": [
        "import torch.nn as nn\n",
        "import torch.nn.functional as F\n",
        "\n",
        "########## YOUR SOLUTION HERE ##########\n",
        "class NextCharLSTM(nn.Module):\n",
        "    def __init__(self, alphabet_size, embedding_dim, hidden_dim):\n",
        "        super(NextCharLSTM, self).__init__()\n",
        "        self.embedding = nn.Embedding(alphabet_size, embedding_dim)\n",
        "        self.lstm = nn.LSTM(embedding_dim, hidden_dim, batch_first=True, num_layers=1)\n",
        "        self.fc = nn.Linear(hidden_dim, alphabet_size)\n",
        "    \n",
        "    def forward(self, x):\n",
        "        embeds = self.embedding(x)\n",
        "        lstm_out, (h, c) = self.lstm(embeds)\n",
        "        logits = self.fc(lstm_out)\n",
        "\n",
        "        return logits"
      ]
    },
    {
      "cell_type": "markdown",
      "id": "bd7cb10d",
      "metadata": {
        "id": "bd7cb10d"
      },
      "source": [
        "## Exercise 4: Training/Validation Epoch\n",
        "\n",
        "Write a function `epoch` that takes a `torch.utils.data.DataLoader`, a `NextCharLSTM`, and a `torch.optim.Optimizer` as arguments, where the last one might be `None`. If the optimizer is `None`, then the function should validate the model. Otherwise it should train the model for next-character prediction in the many-to-many setting. That is, given a sequence `x` of length `l`, the input sequence is `x[:l-1]` and the corresponding target sequence is `x[1:]`. The function should perform one epoch of training/validation and return the loss values of each mini batch as a numpy array. Use the cross-entropy loss function for both training and validation. "
      ]
    },
    {
      "cell_type": "code",
      "execution_count": 4,
      "id": "13f33250",
      "metadata": {
        "id": "13f33250",
        "colab": {
          "base_uri": "https://localhost:8080/"
        },
        "outputId": "7d7178f4-7d9f-4ba0-b605-e6a2950057fb"
      },
      "outputs": [
        {
          "output_type": "stream",
          "name": "stdout",
          "text": [
            "Mounted at /content/gdrive\n"
          ]
        }
      ],
      "source": [
        "from torch.utils.data import DataLoader\n",
        "import numpy as np\n",
        "from tqdm import tqdm\n",
        "import torch.optim as optim\n",
        "from google.colab import drive\n",
        "drive.mount('/content/gdrive')\n",
        "device = torch.device(\"cuda\" if torch.cuda.is_available() else \"cpu\")\n",
        "\n",
        "def epoch(dataloader:torch.utils.data.DataLoader=None, model=None, optimizer=None):\n",
        "  criterion = nn.CrossEntropyLoss().to(device)\n",
        "\n",
        "  losses=list()\n",
        "\n",
        "  iterations = 0\n",
        "\n",
        "  if optimizer:\n",
        "    model.train()\n",
        "    for X_batch, y_batch in tqdm(dataloader):\n",
        "        model.zero_grad()\n",
        "        y_pred = model(X_batch.to(device))\n",
        "        y_pred = (y_pred.reshape(-1, y_pred.shape[-1]))\n",
        "        y_batch = (y_batch.reshape(-1)).to(device)\n",
        "        loss = criterion(y_pred, y_batch)\n",
        "        losses.append(loss.item())\n",
        "        loss.backward()\n",
        "        optimizer.step()\n",
        "        iterations += 1\n",
        "    return losses, iterations\n",
        "\n",
        "  else:\n",
        "    for X_batch, y_batch in tqdm(dataloader):\n",
        "      y_pred = model(X_batch.to(device))\n",
        "      y_pred = (y_pred.reshape(-1, y_pred.shape[-1]))\n",
        "      y_batch = (y_batch.reshape(-1)).to(device)\n",
        "      loss = criterion(y_pred, y_batch)\n",
        "      losses.append(loss.item())\n",
        "      iterations += 1\n",
        "    return losses, iterations"
      ]
    },
    {
      "cell_type": "markdown",
      "id": "a3cb856c",
      "metadata": {
        "id": "a3cb856c"
      },
      "source": [
        "## Exercise 5: Model Selection\n",
        "\n",
        "Usually, we would now train and validate our model on a grid of with different hyperparameters to see which setting performs best. However, this is pretty expensive in terms of compute so we will provide you with a setting that should work quite well. Train your model for 30 epochs using `torch.optim.Adam`. Validate your model after every epoch and persist the model that performs best on the validation set using `torch.save`. Visualize and discuss the training and validation progress. "
      ]
    },
    {
      "cell_type": "code",
      "execution_count": null,
      "id": "8987ae83",
      "metadata": {
        "colab": {
          "base_uri": "https://localhost:8080/",
          "height": 1000
        },
        "id": "8987ae83",
        "outputId": "5790bb4e-5ed1-49da-8fb5-e9d8ae85d7ef"
      },
      "outputs": [
        {
          "output_type": "stream",
          "name": "stderr",
          "text": [
            "100%|██████████| 34/34 [00:02<00:00, 15.77it/s]\n",
            "100%|██████████| 1/1 [00:00<00:00, 44.17it/s]\n"
          ]
        },
        {
          "output_type": "stream",
          "name": "stdout",
          "text": [
            "epoch:  0 \t Training Loss Avg: 3.046574024593129 \t Validation Loss Avg: 2.860280752182007\n"
          ]
        },
        {
          "output_type": "stream",
          "name": "stderr",
          "text": [
            "100%|██████████| 34/34 [00:02<00:00, 16.39it/s]\n",
            "100%|██████████| 1/1 [00:00<00:00, 45.07it/s]\n"
          ]
        },
        {
          "output_type": "stream",
          "name": "stdout",
          "text": [
            "epoch:  1 \t Training Loss Avg: 2.7989549075855926 \t Validation Loss Avg: 2.7396278381347656\n"
          ]
        },
        {
          "output_type": "stream",
          "name": "stderr",
          "text": [
            "100%|██████████| 34/34 [00:02<00:00, 16.21it/s]\n",
            "100%|██████████| 1/1 [00:00<00:00, 46.59it/s]\n"
          ]
        },
        {
          "output_type": "stream",
          "name": "stdout",
          "text": [
            "epoch:  2 \t Training Loss Avg: 2.6466933769338272 \t Validation Loss Avg: 2.617720365524292\n"
          ]
        },
        {
          "output_type": "stream",
          "name": "stderr",
          "text": [
            "100%|██████████| 34/34 [00:02<00:00, 16.35it/s]\n",
            "100%|██████████| 1/1 [00:00<00:00, 43.72it/s]\n"
          ]
        },
        {
          "output_type": "stream",
          "name": "stdout",
          "text": [
            "epoch:  3 \t Training Loss Avg: 2.520154090488658 \t Validation Loss Avg: 2.515422821044922\n"
          ]
        },
        {
          "output_type": "stream",
          "name": "stderr",
          "text": [
            "100%|██████████| 34/34 [00:02<00:00, 16.09it/s]\n",
            "100%|██████████| 1/1 [00:00<00:00, 46.64it/s]\n"
          ]
        },
        {
          "output_type": "stream",
          "name": "stdout",
          "text": [
            "epoch:  4 \t Training Loss Avg: 2.410259443170884 \t Validation Loss Avg: 2.4259495735168457\n"
          ]
        },
        {
          "output_type": "stream",
          "name": "stderr",
          "text": [
            "100%|██████████| 34/34 [00:02<00:00, 15.99it/s]\n",
            "100%|██████████| 1/1 [00:00<00:00, 46.35it/s]\n"
          ]
        },
        {
          "output_type": "stream",
          "name": "stdout",
          "text": [
            "epoch:  5 \t Training Loss Avg: 2.2980134767644547 \t Validation Loss Avg: 2.320683002471924\n"
          ]
        },
        {
          "output_type": "stream",
          "name": "stderr",
          "text": [
            "100%|██████████| 34/34 [00:02<00:00, 16.03it/s]\n",
            "100%|██████████| 1/1 [00:00<00:00, 45.33it/s]\n"
          ]
        },
        {
          "output_type": "stream",
          "name": "stdout",
          "text": [
            "epoch:  6 \t Training Loss Avg: 2.1849043158923878 \t Validation Loss Avg: 2.2289962768554688\n"
          ]
        },
        {
          "output_type": "stream",
          "name": "stderr",
          "text": [
            "100%|██████████| 34/34 [00:02<00:00, 15.94it/s]\n",
            "100%|██████████| 1/1 [00:00<00:00, 44.01it/s]\n"
          ]
        },
        {
          "output_type": "stream",
          "name": "stdout",
          "text": [
            "epoch:  7 \t Training Loss Avg: 2.0817428792224213 \t Validation Loss Avg: 2.1365807056427\n"
          ]
        },
        {
          "output_type": "stream",
          "name": "stderr",
          "text": [
            "100%|██████████| 34/34 [00:02<00:00, 15.86it/s]\n",
            "100%|██████████| 1/1 [00:00<00:00, 44.16it/s]\n"
          ]
        },
        {
          "output_type": "stream",
          "name": "stdout",
          "text": [
            "epoch:  8 \t Training Loss Avg: 1.991486742215998 \t Validation Loss Avg: 2.0609641075134277\n"
          ]
        },
        {
          "output_type": "stream",
          "name": "stderr",
          "text": [
            "100%|██████████| 34/34 [00:02<00:00, 15.77it/s]\n",
            "100%|██████████| 1/1 [00:00<00:00, 45.51it/s]\n"
          ]
        },
        {
          "output_type": "stream",
          "name": "stdout",
          "text": [
            "epoch:  9 \t Training Loss Avg: 1.9129073374411638 \t Validation Loss Avg: 1.9955270290374756\n"
          ]
        },
        {
          "output_type": "stream",
          "name": "stderr",
          "text": [
            "100%|██████████| 34/34 [00:02<00:00, 15.70it/s]\n",
            "100%|██████████| 1/1 [00:00<00:00, 40.30it/s]\n"
          ]
        },
        {
          "output_type": "stream",
          "name": "stdout",
          "text": [
            "epoch:  10 \t Training Loss Avg: 1.8427228857489193 \t Validation Loss Avg: 1.9377632141113281\n"
          ]
        },
        {
          "output_type": "stream",
          "name": "stderr",
          "text": [
            "100%|██████████| 34/34 [00:02<00:00, 15.56it/s]\n",
            "100%|██████████| 1/1 [00:00<00:00, 41.60it/s]\n"
          ]
        },
        {
          "output_type": "stream",
          "name": "stdout",
          "text": [
            "epoch:  11 \t Training Loss Avg: 1.7805309611208298 \t Validation Loss Avg: 1.8855371475219727\n"
          ]
        },
        {
          "output_type": "stream",
          "name": "stderr",
          "text": [
            "100%|██████████| 34/34 [00:02<00:00, 15.50it/s]\n",
            "100%|██████████| 1/1 [00:00<00:00, 44.78it/s]\n"
          ]
        },
        {
          "output_type": "stream",
          "name": "stdout",
          "text": [
            "epoch:  12 \t Training Loss Avg: 1.725636264857124 \t Validation Loss Avg: 1.8387986421585083\n"
          ]
        },
        {
          "output_type": "stream",
          "name": "stderr",
          "text": [
            "100%|██████████| 34/34 [00:02<00:00, 15.43it/s]\n",
            "100%|██████████| 1/1 [00:00<00:00, 44.83it/s]\n"
          ]
        },
        {
          "output_type": "stream",
          "name": "stdout",
          "text": [
            "epoch:  13 \t Training Loss Avg: 1.6763778223710901 \t Validation Loss Avg: 1.7938318252563477\n"
          ]
        },
        {
          "output_type": "stream",
          "name": "stderr",
          "text": [
            "100%|██████████| 34/34 [00:02<00:00, 15.37it/s]\n",
            "100%|██████████| 1/1 [00:00<00:00, 40.50it/s]\n"
          ]
        },
        {
          "output_type": "stream",
          "name": "stdout",
          "text": [
            "epoch:  14 \t Training Loss Avg: 1.6312861582812141 \t Validation Loss Avg: 1.7542736530303955\n"
          ]
        },
        {
          "output_type": "stream",
          "name": "stderr",
          "text": [
            "100%|██████████| 34/34 [00:02<00:00, 15.45it/s]\n",
            "100%|██████████| 1/1 [00:00<00:00, 39.43it/s]\n"
          ]
        },
        {
          "output_type": "stream",
          "name": "stdout",
          "text": [
            "epoch:  15 \t Training Loss Avg: 1.5905574244611405 \t Validation Loss Avg: 1.7184189558029175\n"
          ]
        },
        {
          "output_type": "stream",
          "name": "stderr",
          "text": [
            "100%|██████████| 34/34 [00:02<00:00, 15.38it/s]\n",
            "100%|██████████| 1/1 [00:00<00:00, 44.48it/s]\n"
          ]
        },
        {
          "output_type": "stream",
          "name": "stdout",
          "text": [
            "epoch:  16 \t Training Loss Avg: 1.552950077197131 \t Validation Loss Avg: 1.6845314502716064\n"
          ]
        },
        {
          "output_type": "stream",
          "name": "stderr",
          "text": [
            "100%|██████████| 34/34 [00:02<00:00, 15.30it/s]\n",
            "100%|██████████| 1/1 [00:00<00:00, 43.30it/s]\n"
          ]
        },
        {
          "output_type": "stream",
          "name": "stdout",
          "text": [
            "epoch:  17 \t Training Loss Avg: 1.5180202652426327 \t Validation Loss Avg: 1.6540298461914062\n"
          ]
        },
        {
          "output_type": "stream",
          "name": "stderr",
          "text": [
            "100%|██████████| 34/34 [00:02<00:00, 14.60it/s]\n",
            "100%|██████████| 1/1 [00:00<00:00, 41.50it/s]\n"
          ]
        },
        {
          "output_type": "stream",
          "name": "stdout",
          "text": [
            "epoch:  18 \t Training Loss Avg: 1.4861367590287153 \t Validation Loss Avg: 1.626146674156189\n"
          ]
        },
        {
          "output_type": "stream",
          "name": "stderr",
          "text": [
            "100%|██████████| 34/34 [00:02<00:00, 14.97it/s]\n",
            "100%|██████████| 1/1 [00:00<00:00, 40.40it/s]\n"
          ]
        },
        {
          "output_type": "stream",
          "name": "stdout",
          "text": [
            "epoch:  19 \t Training Loss Avg: 1.4567442711661844 \t Validation Loss Avg: 1.6008535623550415\n"
          ]
        },
        {
          "output_type": "stream",
          "name": "stderr",
          "text": [
            "100%|██████████| 34/34 [00:02<00:00, 15.15it/s]\n",
            "100%|██████████| 1/1 [00:00<00:00, 44.24it/s]\n"
          ]
        },
        {
          "output_type": "stream",
          "name": "stdout",
          "text": [
            "epoch:  20 \t Training Loss Avg: 1.4296351040110868 \t Validation Loss Avg: 1.577710747718811\n"
          ]
        },
        {
          "output_type": "stream",
          "name": "stderr",
          "text": [
            "100%|██████████| 34/34 [00:02<00:00, 15.22it/s]\n",
            "100%|██████████| 1/1 [00:00<00:00, 40.50it/s]\n"
          ]
        },
        {
          "output_type": "stream",
          "name": "stdout",
          "text": [
            "epoch:  21 \t Training Loss Avg: 1.4046776259646696 \t Validation Loss Avg: 1.5563254356384277\n"
          ]
        },
        {
          "output_type": "stream",
          "name": "stderr",
          "text": [
            "100%|██████████| 34/34 [00:02<00:00, 15.06it/s]\n",
            "100%|██████████| 1/1 [00:00<00:00, 37.88it/s]\n"
          ]
        },
        {
          "output_type": "stream",
          "name": "stdout",
          "text": [
            "epoch:  22 \t Training Loss Avg: 1.3817710525849287 \t Validation Loss Avg: 1.5363706350326538\n"
          ]
        },
        {
          "output_type": "stream",
          "name": "stderr",
          "text": [
            "100%|██████████| 34/34 [00:02<00:00, 14.96it/s]\n",
            "100%|██████████| 1/1 [00:00<00:00, 42.06it/s]\n"
          ]
        },
        {
          "output_type": "stream",
          "name": "stdout",
          "text": [
            "epoch:  23 \t Training Loss Avg: 1.360950634760015 \t Validation Loss Avg: 1.5178158283233643\n"
          ]
        },
        {
          "output_type": "stream",
          "name": "stderr",
          "text": [
            "100%|██████████| 34/34 [00:02<00:00, 14.97it/s]\n",
            "100%|██████████| 1/1 [00:00<00:00, 37.14it/s]\n"
          ]
        },
        {
          "output_type": "stream",
          "name": "stdout",
          "text": [
            "epoch:  24 \t Training Loss Avg: 1.3422640246503494 \t Validation Loss Avg: 1.5030779838562012\n"
          ]
        },
        {
          "output_type": "stream",
          "name": "stderr",
          "text": [
            "100%|██████████| 34/34 [00:02<00:00, 14.94it/s]\n",
            "100%|██████████| 1/1 [00:00<00:00, 41.48it/s]\n"
          ]
        },
        {
          "output_type": "stream",
          "name": "stdout",
          "text": [
            "epoch:  25 \t Training Loss Avg: 1.3243556408321155 \t Validation Loss Avg: 1.4892436265945435\n"
          ]
        },
        {
          "output_type": "stream",
          "name": "stderr",
          "text": [
            "100%|██████████| 34/34 [00:02<00:00, 14.82it/s]\n",
            "100%|██████████| 1/1 [00:00<00:00, 42.95it/s]\n"
          ]
        },
        {
          "output_type": "stream",
          "name": "stdout",
          "text": [
            "epoch:  26 \t Training Loss Avg: 1.305758371072657 \t Validation Loss Avg: 1.4729613065719604\n"
          ]
        },
        {
          "output_type": "stream",
          "name": "stderr",
          "text": [
            "100%|██████████| 34/34 [00:02<00:00, 14.87it/s]\n",
            "100%|██████████| 1/1 [00:00<00:00, 41.94it/s]\n"
          ]
        },
        {
          "output_type": "stream",
          "name": "stdout",
          "text": [
            "epoch:  27 \t Training Loss Avg: 1.28921039314831 \t Validation Loss Avg: 1.4606788158416748\n"
          ]
        },
        {
          "output_type": "stream",
          "name": "stderr",
          "text": [
            "100%|██████████| 34/34 [00:02<00:00, 14.96it/s]\n",
            "100%|██████████| 1/1 [00:00<00:00, 43.87it/s]\n"
          ]
        },
        {
          "output_type": "stream",
          "name": "stdout",
          "text": [
            "epoch:  28 \t Training Loss Avg: 1.2734793915468103 \t Validation Loss Avg: 1.4488863945007324\n"
          ]
        },
        {
          "output_type": "stream",
          "name": "stderr",
          "text": [
            "100%|██████████| 34/34 [00:02<00:00, 15.03it/s]\n",
            "100%|██████████| 1/1 [00:00<00:00, 43.90it/s]\n"
          ]
        },
        {
          "output_type": "stream",
          "name": "stdout",
          "text": [
            "epoch:  29 \t Training Loss Avg: 1.2583090522710014 \t Validation Loss Avg: 1.438180923461914\n"
          ]
        },
        {
          "output_type": "execute_result",
          "data": {
            "text/plain": [
              "[Text(0, 0.5, 'loss'), Text(0.5, 0, 'epoch')]"
            ]
          },
          "metadata": {},
          "execution_count": 23
        },
        {
          "output_type": "display_data",
          "data": {
            "text/plain": [
              "<Figure size 1080x1080 with 4 Axes>"
            ],
            "image/png": "[encoded data removed]"
          },
          "metadata": {
            "needs_background": "light"
          }
        }
      ],
      "source": [
        "import matplotlib.pyplot as plt\n",
        "\n",
        "sequence_length = 100\n",
        "batch_size = 256\n",
        "embedding_dim = 8\n",
        "hidden_dim = 512\n",
        "learning_rate = 1e-3\n",
        "num_epochs = 30\n",
        "\n",
        "char = \"abcdefghijklmnopqrstuvwxyz0123456789 .!?\"\n",
        "enc = Encoder(char)\n",
        "\n",
        "path_train = \"/content/gdrive/MyDrive/lstm/trump_train.txt\"\n",
        "path_val = \"/content/gdrive/MyDrive/lstm/trump_val.txt\"\n",
        "\n",
        "train = TextDataset(path_train, sequence_length)\n",
        "val = TextDataset(path_val, sequence_length)\n",
        "\n",
        "train_loader = DataLoader(train, batch_size, shuffle=False)\n",
        "val_loader = DataLoader(val, batch_size, shuffle=False)\n",
        "\n",
        "model = NextCharLSTM(len(char), embedding_dim, hidden_dim).to(device)\n",
        "\n",
        "optimizer = optim.Adam(model.parameters(), lr=learning_rate)\n",
        "\n",
        "train_epoch_losses = list()\n",
        "val_epoch_losses = list()\n",
        "\n",
        "for e in range(num_epochs):\n",
        "  # train_losses: list with losses of each mini batch of an epoch\n",
        "  train_losses, train_iterations = epoch(train_loader, model, optimizer)\n",
        "  val_losses, val_iterations = epoch(val_loader, model)\n",
        "  # train_avg: loss average of one epoch\n",
        "  train_avg = float(np.mean([float(loss) for loss in train_losses]))\n",
        "  val_avg = float(np.mean([float(loss) for loss in val_losses]))\n",
        "  \n",
        "  train_epoch_losses.append((train_losses, train_iterations, train_avg))\n",
        "  val_epoch_losses.append((val_losses, val_iterations, val_avg))\n",
        "\n",
        "  print(\"epoch: \", e,\"\\t Training Loss Avg:\", train_avg, \"\\t Validation Loss Avg:\", val_avg)\n",
        "\n",
        "save_path = \"/content/gdrive/MyDrive/lstm/lstm_model_nlp.pth\"\n",
        "torch.save(model.state_dict(), save_path)\n",
        "\n",
        "it_train = np.sum([i[1] for i in train_epoch_losses])\n",
        "all_train_losses = list()\n",
        "all_train_avg = list()\n",
        "\n",
        "for e in train_epoch_losses:\n",
        "  for l in e[0]:\n",
        "    all_train_losses.append(l)\n",
        "  all_train_avg.append(e[2])\n",
        "\n",
        "it_val = np.sum([i[1] for i in val_epoch_losses])\n",
        "all_val_losses = list()\n",
        "all_val_avg = list()\n",
        "\n",
        "for e in val_epoch_losses:\n",
        "  for l in e[0]:\n",
        "    all_val_losses.append(l)\n",
        "  all_val_avg.append(e[2])\n",
        "\n",
        "fig, axs = plt.subplots(2,2, figsize=(15, 15))\n",
        "fig.suptitle('LSTM')\n",
        "\n",
        "axs[0, 0].plot(range(it_train), all_train_losses, 'tab:purple')\n",
        "axs[0, 0].set_title('Training losses of all iterations')\n",
        "axs[0, 0].set(xlabel='iterations', ylabel='loss')\n",
        "axs[0, 1].plot(range(len(all_train_avg)), all_train_avg, 'tab:blue')\n",
        "axs[0, 1].set_title('Training average loss per epoch')\n",
        "axs[0, 1].set(xlabel='epoch', ylabel='loss')\n",
        "axs[1, 0].plot(range(it_val), all_val_losses, 'tab:green')\n",
        "axs[1, 0].set_title('Validation losses of all iterations')\n",
        "axs[1, 0].set(xlabel='iterations', ylabel='loss')\n",
        "axs[1, 1].plot(range(len(all_val_avg)), all_val_avg, 'tab:red')\n",
        "axs[1, 1].set_title('Validation average loss per epoch')\n",
        "axs[1, 1].set(xlabel='epoch', ylabel='loss')\n"
      ]
    },
    {
      "cell_type": "markdown",
      "id": "62c68d0c",
      "metadata": {
        "id": "62c68d0c"
      },
      "source": [
        "## Exercise 6: Top-$k$ Accuracy\n",
        "\n",
        "Write a function `topk_accuracy` that takes a list of integers $k$, a model, and a data loader and returns the top-$k$ accuracy of the model on the given data set for each $k$. A sample is considered to be classified correctly if the true label appears in the top-$k$ classes predicted by the model. Then load the best model from the previous exercise using `torch.load` and plot its top-$k$ accuracy as a function of $k$ for all possible values of $k$. Discuss the results. "
      ]
    },
    {
      "cell_type": "code",
      "source": [
        "import matplotlib.pyplot as plt\n",
        "\n",
        "save_path = r\"/content/gdrive/MyDrive/unistuff/WS 2022/lstm/lstm_model_nlp.pth\"\n",
        "checkpoint = torch.load(save_path)\n",
        "\n",
        "embedding_dim = 8\n",
        "hidden_dim = 512\n",
        "sequence_length = 100\n",
        "batch_size = 256\n",
        "char = \"abcdefghijklmnopqrstuvwxyz0123456789 .!?\"\n",
        "enc = Encoder(char)\n",
        "\n",
        "model = NextCharLSTM(len(char), embedding_dim, hidden_dim).to(device)\n",
        "model.load_state_dict(checkpoint)\n",
        "\n",
        "model.eval()\n",
        "path_val = r\"/content/gdrive/MyDrive/unistuff/WS 2022/lstm/trump_val.txt\"\n",
        "val = TextDataset(path_val, sequence_length)\n",
        "\n",
        "val_loader = DataLoader(val, batch_size, shuffle=False)\n",
        "\n",
        "def topk_accuracy(k_array, model, dataloader):\n",
        "  acc = list()\n",
        "  \n",
        "  for k in k_array:\n",
        "    correct = 0\n",
        "\n",
        "    for X_batch, y_batch in tqdm(dataloader):\n",
        "        y_pred = model(X_batch.to(device))\n",
        "        for frame_idx, x in enumerate(y_pred):\n",
        "          for row_idx, row in enumerate(x):\n",
        "            prob = row.softmax(0)\n",
        "            ind = prob.argsort()[-k:]\n",
        "            if int(y_batch[frame_idx, row_idx]) in ind:\n",
        "              correct += 1\n",
        "\n",
        "    acc.append(correct / (batch_size * sequence_length))\n",
        "\n",
        "  return acc\n",
        "\n",
        "ks = list(range(1,8))\n",
        "acc = topk_accuracy(ks, model, val_loader)\n",
        "\n",
        "plt.figure(figsize=(16,9))\n",
        "plt.bar(ks, acc)\n",
        "plt.title(\"Top k-accuracies\")\n",
        "plt.xlabel(\"k\")\n",
        "plt.ylabel(\"accuracy\")"
      ],
      "metadata": {
        "colab": {
          "base_uri": "https://localhost:8080/",
          "height": 706
        },
        "id": "j1b639vyIR-s",
        "outputId": "44930682-ef46-415d-c71e-0362756a3d1f"
      },
      "id": "j1b639vyIR-s",
      "execution_count": null,
      "outputs": [
        {
          "output_type": "stream",
          "name": "stderr",
          "text": [
            "100%|██████████| 1/1 [00:02<00:00,  2.79s/it]\n",
            "100%|██████████| 1/1 [00:02<00:00,  2.68s/it]\n",
            "100%|██████████| 1/1 [00:02<00:00,  2.81s/it]\n",
            "100%|██████████| 1/1 [00:02<00:00,  2.76s/it]\n",
            "100%|██████████| 1/1 [00:02<00:00,  2.74s/it]\n",
            "100%|██████████| 1/1 [00:02<00:00,  2.81s/it]\n",
            "100%|██████████| 1/1 [00:02<00:00,  2.77s/it]\n"
          ]
        },
        {
          "output_type": "execute_result",
          "data": {
            "text/plain": [
              "Text(0, 0.5, 'accuracy')"
            ]
          },
          "metadata": {},
          "execution_count": 53
        },
        {
          "output_type": "display_data",
          "data": {
            "text/plain": [
              "<Figure size 1152x648 with 1 Axes>"
            ],
            "image/png": "[encoded data removed]"
          },
          "metadata": {
            "needs_background": "light"
          }
        }
      ]
    },
    {
      "cell_type": "markdown",
      "id": "04961062",
      "metadata": {
        "id": "04961062"
      },
      "source": [
        "## Exercise 7: Gumbel-Max Character Sampling\n",
        "\n",
        "In this exercise we utilize the trained network to generate novel text. To do this, take some string of seed text, which you can choose freely, and feed it to the network. For each subsequent character, the model outputs logits $z = (z_1, \\dots, z_K)^\\top$, where $K$ is the alphabet size. \n",
        "\n",
        "Use the Gumbel-Max trick to sample from the categorical distribution parameterized by \n",
        "$$\n",
        "\\pi_k = \\frac{e^{z_k / \\tau}}{\\sum_{j=1}^K e^{z_j / \\tau}} \\quad \\text{where} \\quad \\tau > 0 \n",
        "$$\n",
        "is the temperature. For $\\tau \\to 0$ we approach the one-hot distribution, whereas for $\\tau \\to \\infty$ we approach the uniform distribution. The Gumbel-Max trick says that the random variable \n",
        "$$\n",
        "Y = \\arg \\max_{k \\in 1, \\dots, K} (z_k / \\tau + \\xi_k) \n",
        "$$\n",
        "follows a categorical distribution parameterized by $\\pi_1, \\dots, \\pi_K$, where $\\xi_k$ is drawn independently from the standard Gumbel distribution.\n",
        "\n",
        "Implement next-character sampling using the Gumbel-Max trick. Try out different values of $\\tau$ and see which work best. "
      ]
    },
    {
      "cell_type": "code",
      "execution_count": 7,
      "id": "1a92f049",
      "metadata": {
        "id": "1a92f049",
        "colab": {
          "base_uri": "https://localhost:8080/",
          "height": 53
        },
        "outputId": "dfc09e4d-02ef-408c-d0a7-08444f0fbe65"
      },
      "outputs": [
        {
          "output_type": "execute_result",
          "data": {
            "text/plain": [
              "'Observation: The lower the temperature the more \\nlikely the last few indexes of the probabilites get higher.\\nThe higher the temperature the more it converges to \\nfixed sequences of characters\\n'"
            ],
            "application/vnd.google.colaboratory.intrinsic+json": {
              "type": "string"
            }
          },
          "metadata": {},
          "execution_count": 7
        }
      ],
      "source": [
        "save_path = r\"/content/gdrive/MyDrive/lstm/lstm_model_nlp.pth\"\n",
        "checkpoint = torch.load(save_path)\n",
        "\n",
        "embedding_dim = 8\n",
        "hidden_dim = 512\n",
        "sequence_length = 100\n",
        "batch_size = 256\n",
        "char = \"abcdefghijklmnopqrstuvwxyz0123456789 .!?\"\n",
        "enc = Encoder(char)\n",
        "\n",
        "model = NextCharLSTM(len(char), embedding_dim, hidden_dim).to(device)\n",
        "model.load_state_dict(checkpoint)\n",
        "\n",
        "model.eval()\n",
        "initial_text = \"We will make America great again!\"\n",
        "prediction = \"\"\n",
        "enc_text = enc(initial_text)\n",
        "y_pred = model(enc_text.to(device))\n",
        "\n",
        "temp = 345\n",
        "xi = np.random.gumbel(size=1)\n",
        "\n",
        "for logits in y_pred:\n",
        "  prob = torch.exp(logits / (temp + float(xi)))\n",
        "  pi = prob / torch.sum(prob)\n",
        "  Y = int(torch.argmax(pi))\n",
        "  f = [Y]\n",
        "  prediction += enc(f)\n",
        "\n",
        "prediction\n",
        "\n",
        "\"\"\"Observation: The lower the temperature the more \n",
        "likely the last few indexes of the probabilites get higher.\n",
        "The higher the temperature the more it converges to \n",
        "fixed sequences of characters\n",
        "\"\"\""
      ]
    },
    {
      "cell_type": "markdown",
      "id": "f0efc114",
      "metadata": {
        "id": "f0efc114"
      },
      "source": [
        "## Exercise 8: Huffman Coding using LSTM\n",
        "\n",
        "*Thanks to Philipp Renz who had this idea.*\n",
        "\n",
        "The Huffman code is an algorithm to compress data. It encodes symbols with different lengths depending on their frequencies. It assigns a short code to frequent symbols and a longer code to rare symbols to minimize the average code length. We provide you with an implementation that given a list of frequencies `freqs` returns a list of their respective binary codes as strings in the same order. In fact, `freqs` may contain any real numbers. \n",
        "\n",
        "With a model that predicts the next symbol we can achieve even shorter codes. At every time step we can use the predicted probabilities as frequencies for the Huffman code. That is, we use a new code at every time step. This code is governed by the model's belief what the next symbol will be. If the model predictions are good, we will mostly use very short codes.\n",
        "\n",
        "First, determine the average code length per symbol on the validation set using frequencies determined on the training set. \n",
        "Then, use the prediction probabilities of your trained LSTM and determine the average code length per symbol on the validation set using an adaptable code. Add a temperature to the softmax and tune it. How many bits per symbol can you save by using the LSTM and what is the optimal temperature? "
      ]
    },
    {
      "cell_type": "code",
      "execution_count": 9,
      "id": "57e483c8",
      "metadata": {
        "id": "57e483c8",
        "colab": {
          "base_uri": "https://localhost:8080/"
        },
        "outputId": "1e5ec3b9-11d5-468f-838d-6f966ed5595c"
      },
      "outputs": [
        {
          "output_type": "stream",
          "name": "stderr",
          "text": [
            "100%|██████████| 23687/23687 [05:15<00:00, 75.16it/s]\n",
            "100%|██████████| 23687/23687 [08:13<00:00, 47.98it/s]\n",
            "100%|██████████| 23687/23687 [07:43<00:00, 51.13it/s]\n",
            "100%|██████████| 23687/23687 [07:16<00:00, 54.29it/s]\n",
            "100%|██████████| 23687/23687 [06:59<00:00, 56.49it/s]\n",
            "100%|██████████| 23687/23687 [06:51<00:00, 57.63it/s]\n",
            "100%|██████████| 23687/23687 [06:49<00:00, 57.83it/s]\n",
            "100%|██████████| 23687/23687 [06:47<00:00, 58.11it/s]"
          ]
        },
        {
          "output_type": "stream",
          "name": "stdout",
          "text": [
            "\n",
            "val set bit length code with train freq:  4.146198336640351\n",
            "val set bit length with lstm output with tau:\n",
            " {0: 3.692658420230506, 0.5: 1.0947777261789167, 1: 1.3671634229746275, 2: 2.045088022966184, 5: 3.502765229872926, 10: 4.311141132266644, 100: 5.0, 1000: 5.0}\n"
          ]
        },
        {
          "output_type": "stream",
          "name": "stderr",
          "text": [
            "\n"
          ]
        }
      ],
      "source": [
        "from heapq import heapify, heappop, heappush\n",
        "from tqdm import tqdm\n",
        "\n",
        "def huffman_code(freqs):\n",
        "    \"\"\"This function turns a list of frequencies into a Huffman code. \"\"\"\n",
        "    heap = list(zip(freqs, [(i,) for i in range(len(freqs))]))\n",
        "    heapify(heap)\n",
        "    code = [''] * len(freqs)\n",
        "    \n",
        "    while len(heap) > 1:\n",
        "        freq0, idx0 = heappop(heap)\n",
        "        freq1, idx1 = heappop(heap)\n",
        "        heappush(heap, (freq0 + freq1, idx0 + idx1))\n",
        "        \n",
        "        for i in idx0:\n",
        "            code[i] = '0' + code[i]\n",
        "        \n",
        "        for i in idx1:\n",
        "            code[i] = '1' + code[i]\n",
        "    \n",
        "    return code\n",
        "\n",
        "########## YOUR SOLUTION HERE ##########\n",
        "\n",
        "path_train = \"/content/gdrive/MyDrive/lstm/trump_train.txt\"\n",
        "path_val = \"/content/gdrive/MyDrive/lstm/trump_val.txt\"\n",
        "\n",
        "with open(path_train, \"r\", encoding=\"utf-8\") as f:\n",
        "  text = f.read()\n",
        "  counts = [text.count(ch) for ch in char]\n",
        "# 1) attain training set frequency per character\n",
        "train_freq = np.array(counts) / sum(counts)\n",
        "# 2) use training frequencies huffman coding to determine validation set bit length\n",
        "with open(path_val, \"r\", encoding=\"utf-8\") as f:\n",
        "  text = f.read().lower()\n",
        "\n",
        "counts = [text.count(ch) for ch in char]\n",
        "huff_train = huffman_code(train_freq)\n",
        "code_length = list()\n",
        "\n",
        "for count, huff in zip(counts, huff_train):\n",
        "  code_length.append(count * len(huff))\n",
        "\n",
        "code_len_per_symbol_val = float(np.sum(code_length) / len(text))\n",
        "\n",
        "# 3) lstm prob softmax temperature huffman coding\n",
        "out = model(enc(text).to(device))\n",
        "\n",
        "temp = [0,0.5,1,2,5,10,100,1000]\n",
        "xi = np.random.gumbel(size=1)\n",
        "lstm_all_len = list()\n",
        "\n",
        "for t in temp:\n",
        "  lstm_code = \"\"\n",
        "  \n",
        "  for row in tqdm(out):\n",
        "    prob = torch.exp(row / (t + float(xi)))\n",
        "    pi = prob / torch.sum(prob)\n",
        "    pred_char = torch.argmax(prob)\n",
        "    freq = huffman_code(pi)\n",
        "    lstm_code += freq[pred_char]\n",
        "\n",
        "  len_per_symbol = len(lstm_code) / len(text)\n",
        "  lstm_all_len.append(len_per_symbol)\n",
        "\n",
        "tau_dict = dict()\n",
        "for tau, len_sym in zip(temp, lstm_all_len):\n",
        "  tau_dict[tau] = len_sym\n",
        "\n",
        "print(\"\\nval set bit length code with train freq: \",code_len_per_symbol_val) \n",
        "print(\"val set bit length with lstm output with tau:\\n\", tau_dict)"
      ]
    },
    {
      "cell_type": "markdown",
      "source": [
        "Observation: best temperature is here 0.5 where we get shortest average bit code length per symbol, while starting with temperature being 10 sequence length converges to 5"
      ],
      "metadata": {
        "id": "5SOvZjyBWPFY"
      },
      "id": "5SOvZjyBWPFY"
    },
    {
      "cell_type": "code",
      "source": [],
      "metadata": {
        "id": "juVkE5iwzMGS"
      },
      "id": "juVkE5iwzMGS",
      "execution_count": null,
      "outputs": []
    }
  ],
  "metadata": {
    "kernelspec": {
      "display_name": "Python 3 (ipykernel)",
      "language": "python",
      "name": "python3"
    },
    "language_info": {
      "codemirror_mode": {
        "name": "ipython",
        "version": 3
      },
      "file_extension": ".py",
      "mimetype": "text/x-python",
      "name": "python",
      "nbconvert_exporter": "python",
      "pygments_lexer": "ipython3",
      "version": "3.7.9"
    },
    "colab": {
      "provenance": []
    },
    "accelerator": "GPU",
    "gpuClass": "standard"
  },
  "nbformat": 4,
  "nbformat_minor": 5
}