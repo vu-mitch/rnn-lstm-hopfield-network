{
 "cells": [
  {
   "cell_type": "markdown",
   "metadata": {},
   "source": [
    "# Assignment 1: Introduction to the Fully Recurrent Network\n",
    "\n",
    "*Author:* Thomas Adler\n",
    "\n",
    "*Copyright statement:* This  material,  no  matter  whether  in  printed  or  electronic  form,  may  be  used  for  personal  and non-commercial educational use only.  Any reproduction of this manuscript, no matter whether as a whole or in parts, no matter whether in printed or in electronic form, requires explicit prior acceptance of the authors.\n",
    "\n",
    "\n",
    "## Exercise 1: Numerical stability of the binary cross-entropy loss function\n",
    "\n",
    "We will use the binary cross-entropy loss function to train our RNN, which is defined as \n",
    "$$\n",
    "L_{\\text{BCE}}(\\hat y, y) = -y \\log \\hat y - (1-y) \\log (1-\\hat y),\n",
    "$$\n",
    "where $y$ is the label and $\\hat y$ is a prediction, which comes from a model (e.g. an RNN) and is usually sigmoid-activated, i.e., we have\n",
    "$$\n",
    "\\hat y = \\sigma(z) = \\frac{1}{1+e^{-z}}.\n",
    "$$\n",
    "The argument $z$ is called *logit*. For reasons of numerical stability it is better to let the model emit the logit $z$ (instead of the prediction $\\hat y$) and incorporate the sigmoid activation into the loss function. Explain why this is the case and how we can gain numerical stability by combining the two functions $L_{\\text{BCE}}(\\hat y, y)$ and $\\sigma(z)$ into one function $L(z, y) = L_{\\text{BCE}}(\\sigma(z), y)$. \n",
    "\n",
    "*Hint: Prove that $\\log(1+e^{z}) = \\log (1+e^{-|z|}) + \\max(0, z)$ and argue why the right-hand side is numerically more stable. Finally, express $L(z,y)$ in terms of that form.*"
   ]
  },
  {
   "cell_type": "markdown",
   "metadata": {},
   "source": [
    "Reason for incorporating sigmoid function with binary cross entropy is to deal with falsely classified samples which occur at the beginning of training:\n",
    "+ if prediction $\\hat y$ = 0, but true label is 1:\n",
    "$$\n",
    "-1 * \\log (0) - (1-1) * \\log(1-0) = \\log(0) = -inf\n",
    "$$\n",
    "or prediction $\\hat y$ = 1, but true label is 0:\n",
    "$$\n",
    "0 * \\log(1) - (1-0) * \\log(1-1) = \\log(0) = -inf\n",
    "$$\n",
    "where -inf is unfavorable for further calculations\n",
    "\n",
    "+ solution:\n",
    "$$\n",
    "L_{\\text{BCE}}(\\sigma(z), y) = -y \\log (\\frac{1}{1+e^{-z}}) - (1-y) \\log(1-\\frac{1}{1+e^{-z}}) \\\\\n",
    "= -y (-1) \\log(1+e^{-z}) - (1-y) \\log(\\frac{1+e^{-z}-1}{1+e^{-z}}) \\\\\n",
    "= y \\log(1+e^{-z}) - (1-y)[\\log(e^{-z}) - \\log(1+e^{-z})] \\\\ \n",
    "= y \\log(1+e^{-z}) - (\\log(e^{-z}) - y \\log(e^{-z}) - \\log(1+e^{-z}) + y \\log(1+e^{-z})) \\\\\n",
    "= y \\log(1+e^{-z}) - \\log(e^{-z}) + y \\log(e^{-z}) + \\log(1+e^{-z}) - y \\log(1+e^{-z}) \\\\\n",
    "= - \\log(e^{-z}) + y \\log(e^{-z}) + \\log(1+e^{-z}) \\\\\n",
    "$$\n",
    "$$\n",
    "notice: - \\log(e^{-z}) = 0 - \\log(e^{-z}) = \\log(1) - \\log(e^{-z}) = \\log(\\frac{1}{e^{-z}}) = \\log(e^{z}) \\\\\n",
    "$$\n",
    "$$\n",
    "\\begin{align*}\n",
    "&= \\log(e^{z}) - yz + \\log(1+e^{-z}) \\\\\n",
    "&= \\log(e^{z}(1+e^{-z})) - yz \\\\\n",
    "&= \\log(e^{z} + e^{z-z}) - yz \\\\ \n",
    "&= \\log(e^{z} + 1) - yz \\tag{a}\n",
    "\\end{align*}\n",
    "$$\n",
    "\n",
    "+ the result $\\log(e^{z} + 1) - yz$ will be used for derivation \n",
    "\n",
    "+ in order to keep the term yz from overflowing we introduce $\\log(1+e^{z}) = \\log (1+e^{-|z|}) + \\max(0, z)$ \n",
    "\n",
    "proof:\n",
    "+ if z > 0:\n",
    "\n",
    "$$\n",
    "\\log(1+e^{z}) \\\\\n",
    "= \\log((e^{-z} + 1) * e^{z}) \\\\\n",
    "= \\log(e^{-z} + 1) + log(e^{z}) \\\\\n",
    "= \\log(e^{-z} + 1) + z \\\\\n",
    "= \\log(e^{-z} + 1) + \\max(0,z)\n",
    "$$\n",
    "\n",
    "+ if z < 0:\n",
    "\n",
    "$$\n",
    "\\log(1+e^{-z}) = \\log(1+e^{-z}) + max(0, -z) \\\\\n",
    "= \\log(1+e^{-z})\n",
    "$$\n",
    "\n",
    "Finally we have:\n",
    "$$\n",
    "L_{\\text{BCE}}(z, y) = \\log (1+e^{-|z|}) + \\max(0, z) - yz\n",
    "$$"
   ]
  },
  {
   "cell_type": "markdown",
   "metadata": {},
   "source": [
    "Why is $\\log(1+e^{-|z|}) + max(0,z)$ more stable?\n",
    "+ computationally choosing the exponential z of e with z > 700 we get overflow error in $\\log(1+e^z)$\n",
    "+ but $e^{-z}$ < 1 with z $\\in\\mathbb{R}$, so 0 < $\\log(1+e^{-|z|})$ < 1, so we avoid overflow"
   ]
  },
  {
   "cell_type": "markdown",
   "metadata": {},
   "source": [
    "## Exercise 2: Derivative of the loss\n",
    "\n",
    "Calculate the derivative of the binary cross-entropy loss function $L(z, y)$ with respect to the logit $z$."
   ]
  },
  {
   "cell_type": "markdown",
   "metadata": {},
   "source": [
    "$$\n",
    "\\begin{align*}\n",
    "    L_{\\text{BCE}}(z, y) = \\log (1+e^{z}) - yz \\tag{a} \\\\ \n",
    "    \\frac{\\partial L_{\\text{BCE}}(z, y)}{\\partial z} = \\frac{1}{1+e^{z}} * e^{z} - y \\\\\n",
    "    =\\frac{1}{e^{-z}(e^z + 1)} - y \\\\\n",
    "    =\\frac{1}{1+e^{-z}} - y \\\\\n",
    "    =\\sigma(z) - y\n",
    "\\end{align*}\n",
    "$$\n",
    "\n"
   ]
  },
  {
   "cell_type": "markdown",
   "metadata": {},
   "source": [
    "## Exercise 3: Initializing the network\n",
    "Consider the fully recurrent network\n",
    "$$\n",
    "s(t) = W x(t) + R a(t-1) \\\\\n",
    "a(t) = \\tanh(s(t)) \\\\\n",
    "z(t) = V a(t) \\\\\n",
    "\\hat y(t) = \\sigma(z(t))\n",
    "$$\n",
    "for $t \\in \\mathbb{N}, x(t) \\in \\mathbb{R}^{D}, s(t) \\in \\mathbb{R}^{I}, a(t) \\in \\mathbb{R}^{I}, z(t) \\in \\mathbb{R}^K, \\hat y(t) \\in \\mathbb{R}^K$ and $W, R, V$ are real matrices of appropriate sizes and $\\hat a(0) = 0$. \n",
    "\n",
    "*Compared to the lecture notes we choose $f(x) = \\tanh(x) = (e^x - e^{-x})(e^x + e^{-x})^{-1}$ and $\\varphi(x) = \\sigma(x) = (1+e^{-x})^{-1}$. Further, we introduced an auxiliary variable $z(t)$ and transposed the weight matrices.*\n",
    "\n",
    "Write a function `init` that takes a `model` and integers $D, I, K$ as arguments and stores the matrices $W, R, V$ as members `model.W`, `model.R`, `model.V`, respectively. The matrices should be `numpy` arrays of appropriate sizes and filled with random values that are uniformly distributed between -0.01 and 0.01. "
   ]
  },
  {
   "cell_type": "code",
   "execution_count": 11,
   "metadata": {},
   "outputs": [],
   "source": [
    "%matplotlib inline\n",
    "import numpy as np\n",
    "from scipy.special import expit as sigmoid\n",
    "\n",
    "class Obj(object):\n",
    "    pass\n",
    "\n",
    "model = Obj()\n",
    "T, D, I, K = 10, 3, 5, 1\n",
    "\n",
    "def init(model, D, I, K):\n",
    "    ########## YOUR SOLUTION HERE ##########\n",
    "    model.W = np.random.uniform(-0.01,0.01,(I,D))\n",
    "    model.R = np.random.uniform(-0.01,0.01,(K,I))\n",
    "    model.V = np.random.uniform(-0.01,0.01,(K,I))\n",
    "\n",
    "Obj.init = init\n",
    "model.init(D, I, K)"
   ]
  },
  {
   "cell_type": "markdown",
   "metadata": {},
   "source": [
    "## Exercise 4: The forward pass\n",
    "Implement the forward pass for the fully recurrent network for sequence classification (many-to-one mapping). To this end, write a function `forward` that takes a `model`, a sequence of input vectors `x`, and a label `y` as arguments. The inputs will be represented as a `numpy` array of shape `(T, D)`. It should execute the behavior of the fully recurrent network and evaluate the (numerically stabilized) binary cross-entropy loss at the end of the sequence and return the resulting loss value. Store the sequence of hidden activations $(a(t))_{t=1}^T$ and the logit $z(T)$ into `model.a` and `model.z`, respectively. "
   ]
  },
  {
   "cell_type": "code",
   "execution_count": 12,
   "metadata": {},
   "outputs": [
    {
     "data": {
      "text/plain": [
       "array([0.69316821])"
      ]
     },
     "execution_count": 12,
     "metadata": {},
     "output_type": "execute_result"
    }
   ],
   "source": [
    "def forward(model, x, y):\n",
    "    ########## YOUR SOLUTION HERE ##########\n",
    "    T,D = x.shape\n",
    "    \n",
    "    model.a = np.zeros((T,I))\n",
    "    model.y_hat = np.zeros((T,K))\n",
    "\n",
    "    for t in range(T):\n",
    "        s = model.W @ x[t] + model.R @ model.a[t-1]\n",
    "        model.a[t] = np.tanh(s)\n",
    "        z = model.V @ model.a[t]\n",
    "        y_hat = sigmoid(z)\n",
    "        loss = -y * z + np.log(1 + np.exp(-np.abs(z))) + np.maximum(0,z)\n",
    "    \n",
    "    return loss\n",
    "\n",
    "np.random.seed(0)\n",
    "Obj.forward = forward\n",
    "model.forward(np.random.uniform(-1, 1, (T, D)), 1)"
   ]
  },
  {
   "cell_type": "markdown",
   "metadata": {},
   "source": [
    "## Exercise 5: The computational graph\n",
    "\n",
    "Visualize the computational graph of the fully recurrent network unfolded in time. The graph should show the functional dependencies of the nodes $x(t), a(t), z(t), L(z(t), y(t))$ for $t \\in \\{1, 2, 3\\}$. Use the package `networkx` in combination with `matplotlib` to draw a directed graph with labelled nodes and edges. If you need help take a look at [this guide](https://networkx.guide/visualization/basics/). Make sure to arrange the nodes in a meaningful way. "
   ]
  },
  {
   "cell_type": "code",
   "execution_count": 4,
   "metadata": {},
   "outputs": [
    {
     "data": {
      "image/png": "[encoded data removed]",
      "text/plain": [
       "<Figure size 432x288 with 1 Axes>"
      ]
     },
     "metadata": {},
     "output_type": "display_data"
    }
   ],
   "source": [
    "import networkx as nx\n",
    "import matplotlib.pyplot as plt\n",
    "\n",
    "########## YOUR SOLUTION HERE ##########\n",
    "\n",
    "graph = nx.DiGraph()\n",
    "\n",
    "graph.add_node(\"a(0)\", pos=(0,1))\n",
    "graph.add_node(\"a(1)\", pos=(1,1))\n",
    "graph.add_node(\"a(2)\", pos=(2,1))\n",
    "graph.add_node(\"a(3)\", pos=(3,1))\n",
    "graph.add_edge(\"a(0)\", \"a(1)\", label=\"R\")\n",
    "\n",
    "graph.add_node(\"x(1)\", pos=(1,0))\n",
    "graph.add_node(\"x(2)\", pos=(2,0))\n",
    "graph.add_node(\"x(3)\", pos=(3,0))\n",
    "graph.add_edge(\"x(1)\", \"a(1)\",label=\"W\")\n",
    "graph.add_edge(\"x(2)\", \"a(2)\",label=\"W\")\n",
    "graph.add_edge(\"x(3)\", \"a(3)\",label=\"W\")\n",
    "\n",
    "graph.add_node(\"$\\hat{y}$(1)\", pos=(1,2))\n",
    "graph.add_node(\"$\\hat{y}$(2)\", pos=(2,2))\n",
    "graph.add_node(\"$\\hat{y}$(3)\", pos=(3,2))\n",
    "graph.add_node(\"L(z(t))\", pos=(4,2))\n",
    "\n",
    "graph.add_edge(\"a(1)\", \"$\\hat{y}$(1)\", label=\"R\")\n",
    "graph.add_edge(\"a(2)\", \"$\\hat{y}$(2)\", label=\"R\")\n",
    "graph.add_edge(\"a(3)\", \"$\\hat{y}$(3)\", label=\"R\")\n",
    "graph.add_edge(\"$\\hat{y}$(3)\", \"L(z(t))\", label=\"Loss\")\n",
    "\n",
    "graph.add_edge(\"a(1)\", \"a(2)\", label=\"R\")\n",
    "graph.add_edge(\"a(2)\", \"a(3)\", label=\"R\")\n",
    "\n",
    "pos = nx.get_node_attributes(graph, \"pos\")\n",
    "edge_labels = nx.get_edge_attributes(graph, \"label\")\n",
    "\n",
    "nx.draw(graph, pos, with_labels=True, node_size=2000)\n",
    "nx.draw_networkx_edge_labels(graph, pos, edge_labels=edge_labels)\n",
    "plt.title(\"Fully Recurrent Neural Network\", size=15)\n",
    "plt.show()"
   ]
  },
  {
   "cell_type": "code",
   "execution_count": null,
   "metadata": {},
   "outputs": [],
   "source": []
  }
 ],
 "metadata": {
  "kernelspec": {
   "display_name": "Python 3 (ipykernel)",
   "language": "python",
   "name": "python3"
  },
  "language_info": {
   "codemirror_mode": {
    "name": "ipython",
    "version": 3
   },
   "file_extension": ".py",
   "mimetype": "text/x-python",
   "name": "python",
   "nbconvert_exporter": "python",
   "pygments_lexer": "ipython3",
   "version": "3.10.6"
  }
 },
 "nbformat": 4,
 "nbformat_minor": 4
}
